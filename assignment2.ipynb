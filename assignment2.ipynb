{
 "cells": [
  {
   "cell_type": "markdown",
   "metadata": {},
   "source": [
    "1.What are the two values of the Boolean data type? How do you write them?\n",
    " \n",
    "    True and False \n",
    "    1st alphabet should be capital"
   ]
  },
  {
   "cell_type": "markdown",
   "metadata": {},
   "source": [
    "2. What are the three different types of Boolean operators?\n",
    "\n",
    "   and \n",
    "    or\n",
    "    not"
   ]
  },
  {
   "cell_type": "markdown",
   "metadata": {},
   "source": [
    "3. Make a list of each Boolean operator's truth tables (i.e. every possible combination of Boolean\n",
    "values for the operator and what it evaluate ).\n",
    "\n",
    "and   a | b | o/p\n",
    "     -------------\n",
    "      0 | 0 | 0 \n",
    "      0 | 1 | 0\n",
    "      1 | 0 | 0\n",
    "      1 | 1 | 1\n",
    "    \n",
    "or    a | b | o/p\n",
    "     -------------\n",
    "      0 | 0 | 0 \n",
    "      0 | 1 | 1\n",
    "      1 | 0 | 1\n",
    "      1 | 1 | 1\n",
    "    \n",
    "not   b | o/p\n",
    "     ----------\n",
    "      0 | 1 \n",
    "      1 | 0\n",
    "     \n",
    "   \n",
    "\n",
    "  "
   ]
  },
  {
   "cell_type": "markdown",
   "metadata": {},
   "source": [
    "4. What are the values of the following expressions?\n",
    "    (5 > 4) and (3 == 5)               o/p  False    \n",
    "    not (5 > 4)                        o/p  False \n",
    "    (5 > 4) or (3 == 5)                o/p  True \n",
    "    not ((5 > 4) or (3 == 5))          o/p  False \n",
    "    (True and True) and (True == False) o/p  False \n",
    "    (not False) or (not True)           o/p  True "
   ]
  },
  {
   "cell_type": "markdown",
   "metadata": {},
   "source": [
    "5. What are the six comparison operators?\n",
    "    < smaller than\n",
    "    > greater than\n",
    "    <= smaller than is equal to \n",
    "    >= greater than is equal to \n",
    "    == both L.H.S and R.H.S are equal\n",
    "    != both L.H.S and R.H.S are not is equal to"
   ]
  },
  {
   "cell_type": "markdown",
   "metadata": {},
   "source": [
    "6. How do you tell the difference between the equal to and assignment operators?Describe a\n",
    "condition and when you would use one.\n",
    "\n",
    " equal to operator has two = sign i.e. == . this will compare the Left hand side value with right hand side\n",
    "    eg. 34 == 87 this will give True or False as an output\n",
    " whereas in case of assignment operator we use only one = sign. and this operator will asign the \n",
    " right hand side value to the left hand side variable.\n",
    "    eg x= 53. now the variable x will have 53 stored in it.\n",
    "    \n",
    "  when we want to check the condition is true or false then we use equal to operator (==) but \n",
    "  when we want to put some value in the variable we use assignment operator(=)"
   ]
  },
  {
   "cell_type": "markdown",
   "metadata": {},
   "source": [
    "7. Identify the three blocks in this code:\n",
    "spam = 0\n",
    "if spam == 10:\n",
    "    print('eggs')\n",
    "if spam > 5:\n",
    "    print('bacon')\n",
    "else:\n",
    "    print('ham')\n",
    "    print('spam')\n",
    "    print('spam')\n",
    "    \n",
    "    \n",
    "o/p ham \n",
    "    spam\n",
    "    spam"
   ]
  },
  {
   "cell_type": "markdown",
   "metadata": {},
   "source": [
    "8. Write code that prints Hello if 1 is stored in spam, prints Howdy if 2 is stored in spam, and prints\n",
    "Greetings! if anything else is stored in spam.\n",
    "\n",
    "9.If your programme is stuck in an endless loop, what keys you’ll press?\n",
    "if spam == 1:\n",
    "    print('hello')\n",
    "else:\n",
    "    if spam == 2:\n",
    "        print('howdy')\n",
    "    else:\n",
    "        print('greeting!')\n",
    "\n",
    "\n",
    "\n"
   ]
  },
  {
   "cell_type": "markdown",
   "metadata": {},
   "source": [
    "9.If your programme is stuck in an endless loop, what keys you’ll press?\n",
    " \n",
    "    ctrl+c"
   ]
  },
  {
   "cell_type": "markdown",
   "metadata": {},
   "source": [
    "10. How can you tell the difference between break and continue?\n",
    "   \n",
    "    break command will break the loop and come outside the loop\n",
    "    where as continue statement will take the cursor to beginning of the loop \n"
   ]
  },
  {
   "cell_type": "markdown",
   "metadata": {},
   "source": [
    "11. In a for loop, what is the difference between range(10), range(0, 10), and range(0, 10, 1)?\n",
    "\n",
    "     there is no difference between these as all of them will give the same o/p from 0 till 9\n",
    "     \n",
    "     range(10) in this we have defined the end value, so the default start value will be 0 \n",
    "               and default increment will be 1\n",
    "     range(0,10)  in this we have defined both start and end value so automatically the default increment will be 1\n",
    "     \n",
    "     range(0,10,1) in this we have assigned all the values start, end and increment value\n",
    "     \n",
    "     but all three will give the output as 0,1,2,3,4,5,6,7,8,9 and then the loop will end\n"
   ]
  },
  {
   "cell_type": "markdown",
   "metadata": {},
   "source": [
    "12. Write a short program that prints the numbers 1 to 10 using a for loop. Then write an equivalent\n",
    "program that prints the numbers 1 to 10 using a while loop.\n",
    "\n",
    "  for i in range(1,11):\n",
    "        print(i)\n",
    "   \n",
    "   x = 1\n",
    "   while x < 11:\n",
    "        print(x)\n",
    "        x+=1\n"
   ]
  },
  {
   "cell_type": "code",
   "execution_count": 20,
   "metadata": {},
   "outputs": [
    {
     "name": "stdout",
     "output_type": "stream",
     "text": [
      "1\n",
      "2\n",
      "3\n",
      "4\n",
      "5\n",
      "6\n",
      "7\n",
      "8\n",
      "9\n",
      "10\n"
     ]
    }
   ],
   "source": [
    "for i in range(1,11):\n",
    "        print(i)\n",
    "   "
   ]
  },
  {
   "cell_type": "code",
   "execution_count": 22,
   "metadata": {},
   "outputs": [
    {
     "name": "stdout",
     "output_type": "stream",
     "text": [
      "1\n",
      "2\n",
      "3\n",
      "4\n",
      "5\n",
      "6\n",
      "7\n",
      "8\n",
      "9\n",
      "10\n"
     ]
    }
   ],
   "source": [
    " x = 1\n",
    "while x < 11:\n",
    "    print(x)\n",
    "    x+=1"
   ]
  },
  {
   "cell_type": "markdown",
   "metadata": {},
   "source": [
    "13. If you had a function named bacon() inside a module named spam, how would you call it after\n",
    "importing spam?\n",
    "\n",
    "import spam\n",
    "spam.bacon()"
   ]
  },
  {
   "cell_type": "code",
   "execution_count": null,
   "metadata": {},
   "outputs": [],
   "source": []
  }
 ],
 "metadata": {
  "kernelspec": {
   "display_name": "Python 3",
   "language": "python",
   "name": "python3"
  },
  "language_info": {
   "codemirror_mode": {
    "name": "ipython",
    "version": 3
   },
   "file_extension": ".py",
   "mimetype": "text/x-python",
   "name": "python",
   "nbconvert_exporter": "python",
   "pygments_lexer": "ipython3",
   "version": "3.8.5"
  }
 },
 "nbformat": 4,
 "nbformat_minor": 4
}
