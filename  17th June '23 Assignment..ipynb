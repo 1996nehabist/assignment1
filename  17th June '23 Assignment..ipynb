{
 "cells": [
  {
   "cell_type": "markdown",
   "metadata": {},
   "source": [
    "# 1. What is the role of try and exception block?\n"
   ]
  },
  {
   "cell_type": "markdown",
   "metadata": {},
   "source": [
    "if any error occur in the code the execution won't get terminated at that point and rest of the \n",
    "code could be executed. so the code in which there could be chances of getting an error, could \n",
    "be placed inside the try and exception block to handle the termination of the program"
   ]
  },
  {
   "cell_type": "code",
   "execution_count": null,
   "metadata": {},
   "outputs": [],
   "source": []
  },
  {
   "cell_type": "markdown",
   "metadata": {},
   "source": [
    "# 2. What is the syntax for a basic try-except block?\n"
   ]
  },
  {
   "cell_type": "markdown",
   "metadata": {},
   "source": [
    "try:\n",
    "    code to be executed\n",
    "except exception_name:\n",
    "    code to be executed"
   ]
  },
  {
   "cell_type": "code",
   "execution_count": null,
   "metadata": {},
   "outputs": [],
   "source": []
  },
  {
   "cell_type": "markdown",
   "metadata": {},
   "source": [
    "# 3. What happens if an exception occurs inside a try block and there is no matching except block?\n"
   ]
  },
  {
   "cell_type": "markdown",
   "metadata": {},
   "source": [
    "it will terminate the program after executing the try block and error message will be\n",
    "there on the screen"
   ]
  },
  {
   "cell_type": "code",
   "execution_count": null,
   "metadata": {},
   "outputs": [],
   "source": []
  },
  {
   "cell_type": "markdown",
   "metadata": {},
   "source": [
    "# 4. What is the difference between using a bare except block and specifying a specific exception type?\n"
   ]
  },
  {
   "cell_type": "raw",
   "metadata": {},
   "source": [
    "bare except block can catch any exception\n",
    "specific except block can catch particular exception only\n",
    "\n",
    "both the block will be able to handle the exception, \n",
    "but in case of specific exception block we can provide a proper error message displayed related to the error that may occur\n",
    "but in case of bare except block without mentioning any exception_name very genric error message \n",
    "needs to be displayed"
   ]
  },
  {
   "cell_type": "code",
   "execution_count": null,
   "metadata": {},
   "outputs": [],
   "source": []
  },
  {
   "cell_type": "markdown",
   "metadata": {},
   "source": [
    "# 5. Can you have nested try-except blocks in Python? If yes, then give an example.\n"
   ]
  },
  {
   "cell_type": "code",
   "execution_count": 1,
   "metadata": {},
   "outputs": [
    {
     "name": "stdout",
     "output_type": "stream",
     "text": [
      "Something went wrong when opening the file\n"
     ]
    }
   ],
   "source": [
    "try:\n",
    "    f = open(\"test.txt\")\n",
    "    try:\n",
    "        f.write(\"hi this is my new file\")\n",
    "    except:\n",
    "        print(\"Something went wrong when writing to the file\")\n",
    "except:\n",
    "    print(\"Something went wrong when opening the file\")"
   ]
  },
  {
   "cell_type": "code",
   "execution_count": null,
   "metadata": {},
   "outputs": [],
   "source": []
  },
  {
   "cell_type": "markdown",
   "metadata": {},
   "source": [
    "# 6. Can we use multiple exception blocks, if yes then give an example.\n"
   ]
  },
  {
   "cell_type": "code",
   "execution_count": 2,
   "metadata": {},
   "outputs": [
    {
     "name": "stdout",
     "output_type": "stream",
     "text": [
      "enter 1st number6\n",
      "enter 2nd numberi\n",
      "enter the correct value\n"
     ]
    }
   ],
   "source": [
    "try:\n",
    "    num1 = int(input(\"enter 1st number\"))\n",
    "    num2 = int(input(\"enter 2nd number\"))\n",
    "    ans = num1/num2\n",
    "    print(num1, \"/\", num2 , \" = \", ans)\n",
    "    \n",
    "except ZeroDivisionError:\n",
    "    print(\"number could not be divided by 0\")\n",
    "        \n",
    "except ValueError:\n",
    "    print(\"enter the correct value\")\n"
   ]
  },
  {
   "cell_type": "code",
   "execution_count": null,
   "metadata": {},
   "outputs": [],
   "source": []
  },
  {
   "cell_type": "markdown",
   "metadata": {},
   "source": [
    "# 7. Write the reason due to which following errors are raised:"
   ]
  },
  {
   "cell_type": "code",
   "execution_count": null,
   "metadata": {},
   "outputs": [],
   "source": []
  },
  {
   "cell_type": "markdown",
   "metadata": {},
   "source": [
    "# a. EOFError"
   ]
  },
  {
   "cell_type": "markdown",
   "metadata": {},
   "source": [
    "This occurs when we have asked the user for input but have not provided\n",
    "any input in the input box"
   ]
  },
  {
   "cell_type": "code",
   "execution_count": null,
   "metadata": {},
   "outputs": [],
   "source": []
  },
  {
   "cell_type": "markdown",
   "metadata": {},
   "source": [
    "# b. FloatingPointError"
   ]
  },
  {
   "cell_type": "markdown",
   "metadata": {},
   "source": [
    "occurs when the result of a floating-point operation is too small to be represented\n",
    "in the memory allocated for the floating-point number"
   ]
  },
  {
   "cell_type": "code",
   "execution_count": null,
   "metadata": {},
   "outputs": [],
   "source": []
  },
  {
   "cell_type": "markdown",
   "metadata": {},
   "source": [
    "# c. IndexError"
   ]
  },
  {
   "cell_type": "markdown",
   "metadata": {},
   "source": [
    "when we try to retrieve an index from a sequence(list, tuple) \n",
    "and the index isn’t found in the sequence."
   ]
  },
  {
   "cell_type": "code",
   "execution_count": null,
   "metadata": {},
   "outputs": [],
   "source": []
  },
  {
   "cell_type": "markdown",
   "metadata": {},
   "source": [
    "# d. MemoryError\n",
    "\n"
   ]
  },
  {
   "cell_type": "markdown",
   "metadata": {},
   "source": [
    "it means that the program has run out of memory. \n",
    "the program somehow creates too many objects. "
   ]
  },
  {
   "cell_type": "code",
   "execution_count": null,
   "metadata": {},
   "outputs": [],
   "source": []
  },
  {
   "cell_type": "markdown",
   "metadata": {},
   "source": [
    "# e. OverflowError\n"
   ]
  },
  {
   "cell_type": "markdown",
   "metadata": {},
   "source": [
    "when any operations like arithmetic operations or any other variable storing any value \n",
    "above its limit then there occurs an overflow of values "
   ]
  },
  {
   "cell_type": "code",
   "execution_count": null,
   "metadata": {},
   "outputs": [],
   "source": []
  },
  {
   "cell_type": "markdown",
   "metadata": {},
   "source": [
    "# f. TabError\n"
   ]
  },
  {
   "cell_type": "markdown",
   "metadata": {},
   "source": [
    "inconsistent use of tabs and spaces in indentation due to mixed use of tab and \n",
    "whitespace indentations"
   ]
  },
  {
   "cell_type": "code",
   "execution_count": null,
   "metadata": {},
   "outputs": [],
   "source": []
  },
  {
   "cell_type": "markdown",
   "metadata": {},
   "source": [
    "# g. ValueError"
   ]
  },
  {
   "cell_type": "markdown",
   "metadata": {},
   "source": [
    "when a function receives an argument of the correct type but an inappropriate value"
   ]
  },
  {
   "cell_type": "code",
   "execution_count": null,
   "metadata": {},
   "outputs": [],
   "source": []
  },
  {
   "cell_type": "markdown",
   "metadata": {},
   "source": [
    "# 8. Write code for the following given scenario and add try-exception block to it.\n"
   ]
  },
  {
   "cell_type": "markdown",
   "metadata": {},
   "source": [
    "# a. Program to divide two numbers"
   ]
  },
  {
   "cell_type": "code",
   "execution_count": 4,
   "metadata": {},
   "outputs": [
    {
     "name": "stdout",
     "output_type": "stream",
     "text": [
      "enter 1st number6\n",
      "enter 2nd number0\n",
      "number could not be divided by 0\n"
     ]
    }
   ],
   "source": [
    "try:\n",
    "    num1 = int(input(\"enter 1st number\"))\n",
    "    num2 = int(input(\"enter 2nd number\"))\n",
    "    ans = num1/num2\n",
    "    print(num1, \"/\", num2 , \" = \", ans)\n",
    "        \n",
    "except ZeroDivisionError:\n",
    "    print(\"number could not be divided by 0\")"
   ]
  },
  {
   "cell_type": "code",
   "execution_count": null,
   "metadata": {},
   "outputs": [],
   "source": []
  },
  {
   "cell_type": "markdown",
   "metadata": {},
   "source": [
    "# b. Program to convert a string to an integer"
   ]
  },
  {
   "cell_type": "code",
   "execution_count": 5,
   "metadata": {},
   "outputs": [
    {
     "name": "stdout",
     "output_type": "stream",
     "text": [
      "enter the string 6\n",
      "6\n"
     ]
    }
   ],
   "source": [
    "try:\n",
    "    string = input(\"enter the string \")\n",
    "    string_int = int(string)\n",
    "    print(string_int)\n",
    "except ValueError:\n",
    "    print('Please enter an integer')"
   ]
  },
  {
   "cell_type": "code",
   "execution_count": null,
   "metadata": {},
   "outputs": [],
   "source": []
  },
  {
   "cell_type": "markdown",
   "metadata": {},
   "source": [
    "# c. Program to access an element in a list"
   ]
  },
  {
   "cell_type": "code",
   "execution_count": 6,
   "metadata": {},
   "outputs": [
    {
     "name": "stdout",
     "output_type": "stream",
     "text": [
      "1\n",
      "2\n",
      "3\n",
      "4\n",
      "5\n",
      "index value exceeded the list length\n"
     ]
    }
   ],
   "source": [
    "list = [1,2,3,4,5]\n",
    "try: \n",
    "    for i in range(len(list)+1):\n",
    "        print(list[i])\n",
    "        \n",
    "except IndexError:\n",
    "    print(\"index value exceeded the list length\")"
   ]
  },
  {
   "cell_type": "code",
   "execution_count": null,
   "metadata": {},
   "outputs": [],
   "source": []
  },
  {
   "cell_type": "markdown",
   "metadata": {},
   "source": [
    "# d. Program to handle a specific exception"
   ]
  },
  {
   "cell_type": "code",
   "execution_count": 7,
   "metadata": {},
   "outputs": [
    {
     "name": "stdout",
     "output_type": "stream",
     "text": [
      "enter 1st number 7\n",
      "enter 2nd number o\n",
      "enter correct values\n"
     ]
    }
   ],
   "source": [
    "try:\n",
    "    num1 = int(input(\"enter 1st number \"))\n",
    "    num2 = int(input(\"enter 2nd number \"))\n",
    "    sum = num1 + num2\n",
    "    print(\"sum of \", num1 ,\" and \", num2, \" is \", sum)\n",
    "except ValueError:                                      #  value error exception\n",
    "    print(\"enter correct values\")\n"
   ]
  },
  {
   "cell_type": "code",
   "execution_count": null,
   "metadata": {},
   "outputs": [],
   "source": []
  },
  {
   "cell_type": "markdown",
   "metadata": {},
   "source": [
    "# e. Program to handle any exception"
   ]
  },
  {
   "cell_type": "code",
   "execution_count": 8,
   "metadata": {},
   "outputs": [
    {
     "name": "stdout",
     "output_type": "stream",
     "text": [
      "enter 1st number3\n",
      "enter 2nd number0\n",
      "there is an error:  division by zero\n"
     ]
    }
   ],
   "source": [
    "try:\n",
    "    num1 = int(input(\"enter 1st number\"))\n",
    "    num2 = int(input(\"enter 2nd number\"))\n",
    "    ans = num1/num2\n",
    "    print(num1, \"/\", num2 , \" = \", ans)\n",
    "        \n",
    "except Exception as e:\n",
    "    print(\"there is an error: \", e)\n"
   ]
  },
  {
   "cell_type": "code",
   "execution_count": null,
   "metadata": {},
   "outputs": [],
   "source": []
  }
 ],
 "metadata": {
  "kernelspec": {
   "display_name": "Python 3",
   "language": "python",
   "name": "python3"
  },
  "language_info": {
   "codemirror_mode": {
    "name": "ipython",
    "version": 3
   },
   "file_extension": ".py",
   "mimetype": "text/x-python",
   "name": "python",
   "nbconvert_exporter": "python",
   "pygments_lexer": "ipython3",
   "version": "3.8.5"
  }
 },
 "nbformat": 4,
 "nbformat_minor": 4
}
