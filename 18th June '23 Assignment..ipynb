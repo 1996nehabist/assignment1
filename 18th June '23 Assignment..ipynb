{
 "cells": [
  {
   "cell_type": "markdown",
   "metadata": {},
   "source": [
    "# 1. What is the role of the 'else' block in a try-except statement? Provide an example scenario where it would be useful.\n"
   ]
  },
  {
   "cell_type": "markdown",
   "metadata": {},
   "source": [
    "If there is no exception then else block will be executed"
   ]
  },
  {
   "cell_type": "code",
   "execution_count": 2,
   "metadata": {},
   "outputs": [
    {
     "name": "stdout",
     "output_type": "stream",
     "text": [
      "enter the first number 6\n",
      "enter the second number 7\n",
      "Yeah ! Your answer is : 0.8571428571428571\n"
     ]
    }
   ],
   "source": [
    "try:\n",
    "    x = int(input(\"enter the first number \"))\n",
    "    y = int(input(\"enter the second number \"))\n",
    "    result = x / y\n",
    "except ZeroDivisionError:\n",
    "    print(\"Sorry ! You are dividing by zero \")\n",
    "else:\n",
    "    print(\"Yeah ! Your answer is :\", result)"
   ]
  },
  {
   "cell_type": "markdown",
   "metadata": {},
   "source": [
    "# 2. Can a try-except block be nested inside another try-except block? Explain with an example.\n"
   ]
  },
  {
   "cell_type": "code",
   "execution_count": 6,
   "metadata": {},
   "outputs": [
    {
     "name": "stdout",
     "output_type": "stream",
     "text": [
      "Something went wrong when writing to the file 1st except\n"
     ]
    }
   ],
   "source": [
    "try:\n",
    "    f = open(\"test.txt\")\n",
    "    try:\n",
    "        f.write(\"hi this is my new file\")\n",
    "    except:\n",
    "        print(\"Something went wrong when writing to the file 1st except\")\n",
    "except:\n",
    "    print(\"Something went wrong when opening the file 2nd except\")"
   ]
  },
  {
   "cell_type": "code",
   "execution_count": null,
   "metadata": {},
   "outputs": [],
   "source": []
  },
  {
   "cell_type": "markdown",
   "metadata": {},
   "source": [
    "# 3. How can you create a custom exception class in Python? Provide an example that demonstrates its usage.\n"
   ]
  },
  {
   "cell_type": "code",
   "execution_count": 3,
   "metadata": {},
   "outputs": [
    {
     "name": "stdout",
     "output_type": "stream",
     "text": [
      "Enter a number: 10\n",
      "Exception occurred: Invalid Age\n"
     ]
    }
   ],
   "source": [
    "class MyException(Exception):\n",
    "    \"Raised when the input value is less than 18\"\n",
    "    pass\n",
    "\n",
    "number = 18\n",
    "try:\n",
    "    input_num = int(input(\"Enter a number: \"))\n",
    "    if input_num < number:\n",
    "        raise MyException\n",
    "    else:\n",
    "        print(\"Eligible to Vote\")\n",
    "        \n",
    "except MyException:\n",
    "    print(\"Exception occurred: Invalid Age\")\n"
   ]
  },
  {
   "cell_type": "code",
   "execution_count": null,
   "metadata": {},
   "outputs": [],
   "source": []
  },
  {
   "cell_type": "markdown",
   "metadata": {},
   "source": [
    "# 4. What are some common exceptions that are built-in to Python?\n"
   ]
  },
  {
   "cell_type": "markdown",
   "metadata": {},
   "source": [
    "ZeroDivisionError - occurs when we divide the number by 0"
   ]
  },
  {
   "cell_type": "markdown",
   "metadata": {},
   "source": [
    "ValueError - occurs when we enter the different data type value"
   ]
  },
  {
   "cell_type": "markdown",
   "metadata": {},
   "source": [
    "EOFError  - file comes to an end without exceuting any operation"
   ]
  },
  {
   "cell_type": "markdown",
   "metadata": {},
   "source": [
    "IndexError - when the index value is not in the list."
   ]
  },
  {
   "cell_type": "markdown",
   "metadata": {},
   "source": [
    "MemoryError - when the operation needs more memory than computer can provide"
   ]
  },
  {
   "cell_type": "markdown",
   "metadata": {},
   "source": []
  },
  {
   "cell_type": "code",
   "execution_count": null,
   "metadata": {},
   "outputs": [],
   "source": []
  },
  {
   "cell_type": "markdown",
   "metadata": {},
   "source": [
    "# 5. What is logging in Python, and why is it important in software development?\n"
   ]
  },
  {
   "cell_type": "markdown",
   "metadata": {},
   "source": [
    "logging allows writing status messages to a file.\n",
    "The file can contain information on which part of the code is executed and what problems\n",
    "have arisen.  "
   ]
  },
  {
   "cell_type": "code",
   "execution_count": null,
   "metadata": {},
   "outputs": [],
   "source": []
  },
  {
   "cell_type": "markdown",
   "metadata": {},
   "source": [
    "# 6. Explain the purpose of log levels in Python logging and provide examples of when each log level would be appropriate.\n"
   ]
  },
  {
   "cell_type": "code",
   "execution_count": 13,
   "metadata": {},
   "outputs": [],
   "source": [
    "import logging\n",
    "\n",
    "logging.basicConfig(filename=\"app.log\", format='%(asctime)s %(message)s',filemode='w+')\n",
    "\n",
    "logger = logging.getLogger()\n",
    "\n",
    "logger.setLevel(logging.DEBUG)\n",
    "\n",
    "logger.debug(\"used to present Harmless debug Message\")\n",
    "logger.info(\"to provide Just an information\")\n",
    "logger.warning(\"Its a Warning\")\n",
    "logger.error(\"Did you try to divide by zero zerodivisionerror\")\n",
    "logger.critical(\"Internet is down\")"
   ]
  },
  {
   "cell_type": "code",
   "execution_count": null,
   "metadata": {},
   "outputs": [],
   "source": []
  },
  {
   "cell_type": "markdown",
   "metadata": {},
   "source": [
    "# 7. What are log formatters in Python logging, and how can you customise the log message format using formatters?\n"
   ]
  },
  {
   "cell_type": "markdown",
   "metadata": {},
   "source": [
    "formatter set the format of the logs it includes the log timestamp, log level and log message\n"
   ]
  },
  {
   "cell_type": "code",
   "execution_count": 16,
   "metadata": {},
   "outputs": [],
   "source": [
    "handler = logging.FileHandler('app.log')\n",
    "handler.setFormatter(logging.Formatter('%(asctime)s:%(levelname)s:%(message)s'))"
   ]
  },
  {
   "cell_type": "markdown",
   "metadata": {},
   "source": [
    "# 8. How can you set up logging to capture log messages from multiple modules or classes in a Python application?\n"
   ]
  },
  {
   "cell_type": "code",
   "execution_count": 1,
   "metadata": {},
   "outputs": [
    {
     "name": "stderr",
     "output_type": "stream",
     "text": [
      "2023-07-19 10:58:20,821 - mylogger - INFO - My Logger has been initialized\n"
     ]
    }
   ],
   "source": [
    "import logging\n",
    "\n",
    "def setup_logger(logger_name,logfile):\n",
    "                logger = logging.getLogger(logger_name)\n",
    "                logger.setLevel(logging.INFO)\n",
    "               \n",
    "                fh = logging.FileHandler(logfile)\n",
    "                fh.setLevel(logging.INFO)\n",
    "               \n",
    "                ch = logging.StreamHandler()\n",
    "                ch.setLevel(logging.INFO)\n",
    "               \n",
    "                formatter = logging.Formatter('%(asctime)s - %(name)s - %(levelname)s - %(message)s')\n",
    "                fh.setFormatter(formatter)\n",
    "                ch.setFormatter(formatter)\n",
    "               \n",
    "                logger.addHandler(fh)\n",
    "                logger.addHandler(ch)\n",
    "                return logger\n",
    "\n",
    "mylogger=setup_logger('mylogger','myloggerfile.log')\n",
    "mylogger.info(\"My Logger has been initialized\")\n",
    "\n"
   ]
  },
  {
   "cell_type": "code",
   "execution_count": null,
   "metadata": {},
   "outputs": [],
   "source": []
  },
  {
   "cell_type": "markdown",
   "metadata": {},
   "source": [
    "# 9. What is the difference between the logging and print statements in Python? When should you use logging over print statements in a real-world application?\n"
   ]
  },
  {
   "cell_type": "markdown",
   "metadata": {},
   "source": [
    "in print statements we can see the output while using logging user won't be able to see the output\n",
    "and the programmer can keep track of everything in the code without the knowleadge if the user\n",
    "\n",
    "it is very useful in keeping the track of the error if occur in real time, also many hackers use \n",
    "the logging to have the information about the user doings"
   ]
  },
  {
   "cell_type": "code",
   "execution_count": null,
   "metadata": {},
   "outputs": [],
   "source": []
  },
  {
   "cell_type": "markdown",
   "metadata": {},
   "source": [
    "# 10. Write a Python program that logs a message to a file named \"app.log\" with the following requirements:\n",
    "\n",
    "● The log message should be \"Hello, World!\"\n",
    "● The log level should be set to \"INFO.\"\n",
    "● The log file should append new log entries without overwriting previous ones."
   ]
  },
  {
   "cell_type": "code",
   "execution_count": 12,
   "metadata": {},
   "outputs": [],
   "source": [
    "import logging\n",
    "\n",
    "logging.basicConfig(filename=\"app.log\",filemode='w+', level=logging.INFO)\n",
    "logging.info(\"Hello, World!\")\n"
   ]
  },
  {
   "cell_type": "code",
   "execution_count": null,
   "metadata": {},
   "outputs": [],
   "source": []
  },
  {
   "cell_type": "markdown",
   "metadata": {},
   "source": [
    "# 11. Create a Python program that logs an error message to the console and a file named \"errors.log\" if an exception occurs during the program's execution. The error message should include the exception type and a timestamp."
   ]
  },
  {
   "cell_type": "code",
   "execution_count": 21,
   "metadata": {},
   "outputs": [],
   "source": [
    "import logging\n",
    "\n",
    "logging.basicConfig(filename=\"error.log\", format='%(asctime)s %(message)s',filemode='w+')\n",
    "logger = logging.getLogger()\n",
    "logger.setLevel(logging.ERROR)\n",
    "def Divide(x, y):\n",
    "    try:\n",
    "        result = x / y\n",
    "    except ZeroDivisionError:\n",
    "        logger.error('division by zero not possible')\n",
    "    else:\n",
    "        return result\n",
    "\n",
    "Divide(4, 0)\n",
    "\n"
   ]
  },
  {
   "cell_type": "code",
   "execution_count": null,
   "metadata": {},
   "outputs": [],
   "source": []
  },
  {
   "cell_type": "code",
   "execution_count": null,
   "metadata": {},
   "outputs": [],
   "source": []
  }
 ],
 "metadata": {
  "kernelspec": {
   "display_name": "Python 3",
   "language": "python",
   "name": "python3"
  },
  "language_info": {
   "codemirror_mode": {
    "name": "ipython",
    "version": 3
   },
   "file_extension": ".py",
   "mimetype": "text/x-python",
   "name": "python",
   "nbconvert_exporter": "python",
   "pygments_lexer": "ipython3",
   "version": "3.8.5"
  }
 },
 "nbformat": 4,
 "nbformat_minor": 4
}
