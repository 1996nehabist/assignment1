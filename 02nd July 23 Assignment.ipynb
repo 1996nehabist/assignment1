{
 "cells": [
  {
   "cell_type": "markdown",
   "metadata": {},
   "source": [
    "# 1. Explain what inheritance is in object-oriented programming and why it is used.\n"
   ]
  },
  {
   "cell_type": "markdown",
   "metadata": {},
   "source": [
    "to inherit the properties(attributes, methods) of the parent class. it's useful as child class doesn't have to define\n",
    "the same properties again and can have the access from the parent class"
   ]
  },
  {
   "cell_type": "code",
   "execution_count": null,
   "metadata": {},
   "outputs": [],
   "source": []
  },
  {
   "cell_type": "markdown",
   "metadata": {},
   "source": [
    "# 2. Discuss the concept of single inheritance and multiple inheritance, highlighting their differences and advantages.\n"
   ]
  },
  {
   "cell_type": "markdown",
   "metadata": {},
   "source": [
    "single inheritance  - only one class is inherited"
   ]
  },
  {
   "cell_type": "code",
   "execution_count": 1,
   "metadata": {},
   "outputs": [],
   "source": [
    "class Person:\n",
    "    def __init__(self,name):\n",
    "        self.name = name\n",
    "    \n",
    "    def display_info(self):\n",
    "        print(f\"Name : {self.name}\")\n",
    "        \n",
    "class Student(Person):                   #single inheritance\n",
    "    def __init__(self, name, grade):\n",
    "        super().__init__(name)\n",
    "        self.grade = grade\n",
    "    \n",
    "    def display_info(self):\n",
    "        super().display_info()\n",
    "        print(f\"Grade : {self.grade} \")"
   ]
  },
  {
   "cell_type": "code",
   "execution_count": 2,
   "metadata": {},
   "outputs": [
    {
     "name": "stdout",
     "output_type": "stream",
     "text": [
      "Name : neha bist\n",
      "Grade : A \n"
     ]
    }
   ],
   "source": [
    "name1 = Student(\"neha bist\", \"A\")\n",
    "name1.display_info()"
   ]
  },
  {
   "cell_type": "code",
   "execution_count": null,
   "metadata": {},
   "outputs": [],
   "source": []
  },
  {
   "cell_type": "markdown",
   "metadata": {},
   "source": [
    "multiple inheritance  - multiple class is inherited"
   ]
  },
  {
   "cell_type": "code",
   "execution_count": 3,
   "metadata": {},
   "outputs": [],
   "source": [
    "class Teacher:\n",
    "    def __init__(self):\n",
    "        self.Tname = \"KRISH\"\n",
    "        \n",
    "class Student:\n",
    "    def __init__(self):\n",
    "        self.Sname = \"NEHA\"\n",
    "\n",
    "class Derived(Student, Teacher):     #multiple inheritance\n",
    "    def __init__(self):\n",
    "        Student.__init__(self)\n",
    "        Teacher.__init__(self)\n",
    "        print(\"Derived\")\n",
    "\n",
    "    def printStrs(self):\n",
    "        print(f\"from class teacher {self.Tname}, from class student {self.Sname}\")\n"
   ]
  },
  {
   "cell_type": "code",
   "execution_count": 4,
   "metadata": {},
   "outputs": [
    {
     "name": "stdout",
     "output_type": "stream",
     "text": [
      "Derived\n",
      "from class teacher KRISH, from class student NEHA\n"
     ]
    }
   ],
   "source": [
    "ob = Derived()\n",
    "ob.printStrs()"
   ]
  },
  {
   "cell_type": "code",
   "execution_count": null,
   "metadata": {},
   "outputs": [],
   "source": []
  },
  {
   "cell_type": "markdown",
   "metadata": {},
   "source": [
    "# 3. Explain the terms \"base class\" and \"derived class\" in the context of inheritance.\n"
   ]
  },
  {
   "cell_type": "code",
   "execution_count": 5,
   "metadata": {},
   "outputs": [],
   "source": [
    "class Person:                            #base class - it is the main class or root class\n",
    "    def __init__(self,name):\n",
    "        self.name = name\n",
    "    \n",
    "    def display_info(self):\n",
    "        print(f\"Name : {self.name}\")\n",
    "        \n",
    "class Student(Person):                   #derived class, inherited the class person (sub class)\n",
    "    def __init__(self, name, grade):\n",
    "        super().__init__(name)\n",
    "        self.grade = grade\n",
    "    \n",
    "    def display_info(self):\n",
    "        super().display_info()\n",
    "        print(f\"Grade : {self.grade} \")"
   ]
  },
  {
   "cell_type": "code",
   "execution_count": 6,
   "metadata": {},
   "outputs": [
    {
     "name": "stdout",
     "output_type": "stream",
     "text": [
      "Name : neha bist\n",
      "Grade : A \n"
     ]
    }
   ],
   "source": [
    "name1 = Student(\"neha bist\", \"A\")\n",
    "name1.display_info()"
   ]
  },
  {
   "cell_type": "code",
   "execution_count": null,
   "metadata": {},
   "outputs": [],
   "source": []
  },
  {
   "cell_type": "markdown",
   "metadata": {},
   "source": [
    "# 4. What is the significance of the \"protected\" access modifier in inheritance? How does it differ from \"private\" and \"public\" modifiers?\n"
   ]
  },
  {
   "cell_type": "markdown",
   "metadata": {},
   "source": [
    "Protected - The members declared as Protected are accessible from outside the class BUT only in a class derived from it. "
   ]
  },
  {
   "cell_type": "markdown",
   "metadata": {},
   "source": [
    "Public - The members declared as Public are accessible from outside the Class through an object of the class. "
   ]
  },
  {
   "cell_type": "markdown",
   "metadata": {},
   "source": [
    "Private - These members are only accessible from within the class. No outside Access is allowed."
   ]
  },
  {
   "cell_type": "code",
   "execution_count": null,
   "metadata": {},
   "outputs": [],
   "source": []
  },
  {
   "cell_type": "markdown",
   "metadata": {},
   "source": [
    "# 5. What is the purpose of the \"super\" keyword in inheritance? Provide an example.\n"
   ]
  },
  {
   "cell_type": "markdown",
   "metadata": {},
   "source": [
    " super () function is used to refer to the parent class or superclass. \n",
    "    It allows you to call methods defined in the superclass"
   ]
  },
  {
   "cell_type": "code",
   "execution_count": 7,
   "metadata": {},
   "outputs": [],
   "source": [
    "class Person:                           \n",
    "    def __init__(self,name):\n",
    "        self.name = name\n",
    "    \n",
    "    def display_info(self):\n",
    "        print(f\"Name : {self.name}\")\n",
    "        \n",
    "class Student(Person):                  \n",
    "    def __init__(self, name, grade):\n",
    "        super().__init__(name)                   # super keyword\n",
    "        self.grade = grade\n",
    "    \n",
    "    def display_info(self):\n",
    "        super().display_info()                  # super keyword\n",
    "        print(f\"Grade : {self.grade} \")"
   ]
  },
  {
   "cell_type": "code",
   "execution_count": 8,
   "metadata": {},
   "outputs": [
    {
     "name": "stdout",
     "output_type": "stream",
     "text": [
      "Name : neha bist\n",
      "Grade : A \n"
     ]
    }
   ],
   "source": [
    "name1 = Student(\"neha bist\", \"A\")\n",
    "name1.display_info()"
   ]
  },
  {
   "cell_type": "code",
   "execution_count": null,
   "metadata": {},
   "outputs": [],
   "source": []
  },
  {
   "cell_type": "markdown",
   "metadata": {},
   "source": [
    "# 6. Create a base class called \"Vehicle\" with attributes like \"make\", \"model\", and \"year\". Then, create a derived class called \"Car\" that inherits from \"Vehicle\" and adds anattribute called \"fuel_type\". Implement appropriate methods in both classes.\n"
   ]
  },
  {
   "cell_type": "code",
   "execution_count": 9,
   "metadata": {},
   "outputs": [],
   "source": [
    "class Vehicle:\n",
    "    def __init__(self, make, model, year):\n",
    "        self.make = make\n",
    "        self.model = model\n",
    "        self.year = year\n",
    "    \n",
    "    def start(self):\n",
    "        print(f\"{self.model} is starting\")"
   ]
  },
  {
   "cell_type": "code",
   "execution_count": 10,
   "metadata": {},
   "outputs": [],
   "source": [
    "class Car(Vehicle):\n",
    "    def __init__(self, make, model, year, fuel_type):\n",
    "        super().__init__(make, model, year)\n",
    "        self.fuel_type = fuel_type\n",
    "        \n",
    "    def start(self):\n",
    "        super().start()\n",
    "        print(f\"{self.model} uses {self.fuel_type} \")"
   ]
  },
  {
   "cell_type": "code",
   "execution_count": 11,
   "metadata": {},
   "outputs": [],
   "source": [
    "vehicle1 = Vehicle(2009, \"bmw\", 2013)"
   ]
  },
  {
   "cell_type": "code",
   "execution_count": 12,
   "metadata": {},
   "outputs": [
    {
     "name": "stdout",
     "output_type": "stream",
     "text": [
      "bmw is starting\n",
      "bmw uses diseal \n"
     ]
    }
   ],
   "source": [
    "car1 = Car(2009, \"bmw\", 2013,\"diseal\")\n",
    "car1.start()"
   ]
  },
  {
   "cell_type": "code",
   "execution_count": null,
   "metadata": {},
   "outputs": [],
   "source": []
  },
  {
   "cell_type": "markdown",
   "metadata": {},
   "source": [
    "# 7. Create a base class called \"Employee\" with attributes like \"name\" and \"salary.\" Derive two classes, \"Manager\" and \"Developer,\" from \"Employee.\" Add an additional attribute called \"department\" for the \"Manager\" class and \"programming_language\" for the \"Developer\" class.\n"
   ]
  },
  {
   "cell_type": "code",
   "execution_count": 13,
   "metadata": {},
   "outputs": [],
   "source": [
    "class Employee:\n",
    "    def __init__(self, name, salary):\n",
    "        self.name = name\n",
    "        self.salary = salary\n",
    "        \n",
    "class Manager(Employee):\n",
    "    def __init__(self, name, salary, department):\n",
    "        super().__init__(name, salary)\n",
    "        self.department = department\n",
    "\n",
    "class Developer(Employee):\n",
    "    def __init__(self, name, salary, programming_language):\n",
    "        super().__init__(name, salary)\n",
    "        self.programming_language = programming_language\n",
    "    "
   ]
  },
  {
   "cell_type": "code",
   "execution_count": null,
   "metadata": {},
   "outputs": [],
   "source": []
  },
  {
   "cell_type": "markdown",
   "metadata": {},
   "source": [
    "# 8. Design a base class called \"Shape\" with attributes like \"colour\" and \"border_width.\" Create derived classes, \"Rectangle\" and \"Circle,\" that inherit from \"Shape\" and add specific attributes like \"length\" and \"width\" for the \"Rectangle\" class and \"radius\" for the \"Circle\" class.\n"
   ]
  },
  {
   "cell_type": "code",
   "execution_count": 14,
   "metadata": {},
   "outputs": [],
   "source": [
    "class Shape:\n",
    "    def __init__(self, colour, border_width):\n",
    "        self.colour = colour\n",
    "        self.border_width = border_width\n",
    "        \n",
    "class Rectangle(Shape):\n",
    "     def __init__(self, colour, border_width, length, width):\n",
    "            super().__init__(colour, border_width)\n",
    "            self.length = length\n",
    "            self.width = width\n",
    "            \n",
    "class Circle(Shape):\n",
    "     def __init__(self, colour, border_width, radius):\n",
    "            super().__init__(colour, border_width)\n",
    "            self.radius = radius"
   ]
  },
  {
   "cell_type": "code",
   "execution_count": null,
   "metadata": {},
   "outputs": [],
   "source": []
  },
  {
   "cell_type": "markdown",
   "metadata": {},
   "source": [
    "# 9. Create a base class called \"Device\" with attributes like \"brand\" and \"model.\" Derive two classes, \"Phone\" and \"Tablet,\" from \"Device.\" Add specific attributes like \"screen_size\" for the \"Phone\" class and \"battery_capacity\" for the \"Tablet\" class.\n"
   ]
  },
  {
   "cell_type": "code",
   "execution_count": 15,
   "metadata": {},
   "outputs": [],
   "source": [
    "class Device:\n",
    "    def __init__(self, brand, model):\n",
    "        self.brand = brand\n",
    "        self.model = model\n",
    "        \n",
    "    def display_info(self):\n",
    "        print(f\"brand : {self.brand}, model: {self.model}\")\n",
    "        \n",
    "class Phone(Device):\n",
    "    def __init__(self, brand, model, screen_size):\n",
    "        super().__init__(brand, model)\n",
    "        self.screen_size = screen_size\n",
    "            \n",
    "    def display_info(self):\n",
    "        super().display_info()\n",
    "        print(f\"screen_size : {self.screen_size}\")\n",
    "            \n",
    "class Tablet(Device):\n",
    "    def __init__(self, brand, model, battery_capacity):\n",
    "        super().__init__(brand, model)\n",
    "        self.battery_capacity = battery_capacity\n",
    "    \n",
    "    def display_info(self):\n",
    "        super().display_info()\n",
    "        print(f\"battery_capacity : {self.battery_capacity}\")\n",
    "           "
   ]
  },
  {
   "cell_type": "code",
   "execution_count": 16,
   "metadata": {},
   "outputs": [
    {
     "name": "stdout",
     "output_type": "stream",
     "text": [
      "brand : oneplus, model: 9R\n",
      "screen_size : 33 X 66\n"
     ]
    }
   ],
   "source": [
    "phone1 = Phone('oneplus','9R', '33 X 66')\n",
    "phone1.display_info()"
   ]
  },
  {
   "cell_type": "code",
   "execution_count": 17,
   "metadata": {},
   "outputs": [
    {
     "name": "stdout",
     "output_type": "stream",
     "text": [
      "brand : Kindle, model: 9\n",
      "battery_capacity : 100 X 150\n"
     ]
    }
   ],
   "source": [
    "tablet1 = Tablet('Kindle','9', '100 X 150')\n",
    "tablet1.display_info()"
   ]
  },
  {
   "cell_type": "code",
   "execution_count": null,
   "metadata": {},
   "outputs": [],
   "source": []
  },
  {
   "cell_type": "markdown",
   "metadata": {},
   "source": [
    "# 10. Create a base class called \"BankAccount\" with attributes like \"account_number\" and \"balance.\" Derive two classes, \"SavingsAccount\" and \"CheckingAccount,\" from \"BankAccount.\" Add specific methods like \"calculate_interest\" for the \"SavingsAccount\" class and \"deduct_fees\" for the \"CheckingAccount\" class.\n"
   ]
  },
  {
   "cell_type": "code",
   "execution_count": 18,
   "metadata": {},
   "outputs": [],
   "source": [
    "class BankAccount:\n",
    "    def __init__(self, account_number, balance):\n",
    "        self.account_number = account_number\n",
    "        self.balance = balance\n",
    "        \n",
    "    def display_balance(self):\n",
    "        print(f\"Account number '{self.account_number}' have Rs{self.balance} in account\")\n",
    "        \n",
    "class SavingsAccount(BankAccount):\n",
    "    interest = 0\n",
    "            \n",
    "    def calculate_interest(self):\n",
    "        interest = 0.05 * self.balance\n",
    "        print(f\"interest on {self.balance} is {interest}\")\n",
    "        super().display_balance()\n",
    "        \n",
    "            \n",
    "class CheckingAccount(BankAccount):\n",
    "     def deduct_fees(self):\n",
    "            self.balance -= 500\n",
    "            print(\"deducting maintance fee of 500/-\")\n",
    "            super().display_balance()"
   ]
  },
  {
   "cell_type": "code",
   "execution_count": 19,
   "metadata": {},
   "outputs": [
    {
     "name": "stdout",
     "output_type": "stream",
     "text": [
      "interest on 90000 is 4500.0\n",
      "Account number '1234' have Rs90000 in account\n"
     ]
    }
   ],
   "source": [
    "neha = SavingsAccount(1234, 90000)\n",
    "neha.calculate_interest()\n"
   ]
  },
  {
   "cell_type": "code",
   "execution_count": 20,
   "metadata": {},
   "outputs": [
    {
     "name": "stdout",
     "output_type": "stream",
     "text": [
      "deducting maintance fee of 500/-\n",
      "Account number '1234' have Rs89500 in account\n"
     ]
    }
   ],
   "source": [
    "neha1 = CheckingAccount(1234, 90000)\n",
    "neha1.deduct_fees()\n"
   ]
  },
  {
   "cell_type": "code",
   "execution_count": null,
   "metadata": {},
   "outputs": [],
   "source": []
  }
 ],
 "metadata": {
  "kernelspec": {
   "display_name": "Python 3",
   "language": "python",
   "name": "python3"
  },
  "language_info": {
   "codemirror_mode": {
    "name": "ipython",
    "version": 3
   },
   "file_extension": ".py",
   "mimetype": "text/x-python",
   "name": "python",
   "nbconvert_exporter": "python",
   "pygments_lexer": "ipython3",
   "version": "3.8.5"
  }
 },
 "nbformat": 4,
 "nbformat_minor": 4
}
