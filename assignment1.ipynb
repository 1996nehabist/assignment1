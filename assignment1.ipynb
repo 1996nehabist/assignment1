{
 "cells": [
  {
   "cell_type": "raw",
   "metadata": {},
   "source": [
    "1. In the below elements which of them are values or an expression? eg:- values can be\n",
    "    integer or string and expressions will be mathematical operators.\n",
    "    *\n",
    "    'hello'\n",
    "    -87.8\n",
    "    -\n",
    "    /\n",
    "    +\n",
    "    6\n",
    "\n",
    "\n",
    "\n",
    "ans-    *        expression\n",
    "        'hello'  values\n",
    "        -87.8    values\n",
    "        -        expression\n",
    "        /        expression\n",
    "        +        expression\n",
    "        6        values"
   ]
  },
  {
   "cell_type": "raw",
   "metadata": {},
   "source": [
    "2. What is the difference between string and variable?\n",
    "\n",
    "\n",
    "ans-  variable is used to store some value, value can be string, integer etc. eg. x='hello' here x is a variable  storing hello in it.\n",
    "    string is collection of alphabets, numbers. eg. name, 24 etc \n"
   ]
  },
  {
   "cell_type": "raw",
   "metadata": {},
   "source": [
    "3. Describe three different data types.\n",
    "\n",
    " int - it defines the integers on which mathematical operations can be performed eg 23, 75, 93\n",
    "str- string defines the collection of alphabets eg 'hello', 'neha'\n",
    "float- decimal values. 87.9734\n"
   ]
  },
  {
   "cell_type": "raw",
   "metadata": {},
   "source": [
    "\n",
    "4. What is an expression made up of? What do all expressions do?\n",
    "\n",
    "expression consists of operators and operand. 3+6 here 3, 6 are operands and + (add) is the operator.\n",
    "the expression will provide us with the addition of 3 and 6 together \n",
    "\n",
    "\n"
   ]
  },
  {
   "cell_type": "raw",
   "metadata": {},
   "source": [
    "5. This assignment statements, like spam = 10. What is the difference between an\n",
    "expression and a statement?\n",
    "\n",
    "\n",
    "assignment statement will assign the right hand side value in the left hand side variable i.e.  span variable \n",
    "will now have value 10 in it.\n",
    "where as the expression will apply some operations on the operands but it won't store the value in the variable"
   ]
  },
  {
   "cell_type": "raw",
   "metadata": {},
   "source": [
    "6. After running the following code, what does the variable bacon contain?\n",
    "bacon = 22\n",
    "bacon + 1\n",
    "\n",
    "bacon will have 22 in it as we have not stored the new value after addition in the variable bacon \n",
    "\n"
   ]
  },
  {
   "cell_type": "raw",
   "metadata": {},
   "source": [
    "\n",
    "7. What should the values of the following two terms be?\n",
    "'spam'+ 'spamspam'\n",
    "'spam' * 3\n",
    "\n",
    "both of them will give the same values i.e. spamspamspam   in both of them spam will be written 3 times without \n",
    "sspace in between"
   ]
  },
  {
   "cell_type": "raw",
   "metadata": {},
   "source": [
    "8. Why is eggs a valid variable name while 100 is invalid?\n",
    "\n",
    "because for creating the variables we have some rules i.e. variable name can't begin with a digit.\n",
    "\n"
   ]
  },
  {
   "cell_type": "raw",
   "metadata": {},
   "source": [
    "9. What three functions can be used to get the integer, floating-point number, or string\n",
    "version of a value?\n",
    "\n",
    "for integer int()\n",
    "for floating-point numbe  float()\n",
    "for string  str()"
   ]
  },
  {
   "cell_type": "raw",
   "metadata": {},
   "source": [
    "10. Why does this expression cause an error? How can you fix it?\n",
    "'I have eaten' + 99 + ' burritos'\n",
    "\n",
    "syntaxerror as we are combining string and integer together we must use ',' instead of '+'\n",
    "it should be like this\n",
    "\n",
    "'I have eaten' , 99 , ' burritos'"
   ]
  }
 ],
 "metadata": {
  "kernelspec": {
   "display_name": "Python 3",
   "language": "python",
   "name": "python3"
  },
  "language_info": {
   "codemirror_mode": {
    "name": "ipython",
    "version": 3
   },
   "file_extension": ".py",
   "mimetype": "text/x-python",
   "name": "python",
   "nbconvert_exporter": "python",
   "pygments_lexer": "ipython3",
   "version": "3.8.5"
  }
 },
 "nbformat": 4,
 "nbformat_minor": 4
}
