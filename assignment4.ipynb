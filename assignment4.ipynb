{
 "cells": [
  {
   "cell_type": "markdown",
   "metadata": {},
   "source": [
    "1. What exactly is []?\n",
    "\n",
    "\n",
    " [] it represents list"
   ]
  },
  {
   "cell_type": "markdown",
   "metadata": {},
   "source": [
    "2. In a list of values stored in a variable called spam, how would you assign the value 'hello' as the\n",
    "third value? (Assume [2, 4, 6, 8, 10] are in spam.)\n",
    "\n",
    "\n",
    "spam[2] = 'hello'\n"
   ]
  },
  {
   "cell_type": "markdown",
   "metadata": {},
   "source": [
    "# Let's pretend the spam includes the list ['a', 'b', 'c', 'd'] for the next three queries.\n"
   ]
  },
  {
   "cell_type": "markdown",
   "metadata": {},
   "source": [
    "3. What is the value of spam[int(int('3' * 2) / 11)]?\n",
    "\n",
    "   spam[int(33)/11]\n",
    "    spam[3]\n",
    "     \n",
    "        \n",
    "    o/p  'd'\n"
   ]
  },
  {
   "cell_type": "markdown",
   "metadata": {},
   "source": [
    "4. What is the value of spam[-1]?\n",
    "\n",
    "   o/p 'd'\n"
   ]
  },
  {
   "cell_type": "markdown",
   "metadata": {},
   "source": [
    "5. What is the value of spam[:2]?\n",
    "\n",
    " o/p ['a', 'b']"
   ]
  },
  {
   "cell_type": "markdown",
   "metadata": {},
   "source": [
    "# Let's pretend bacon has the list [3.14, 'cat', 11, 'cat', True] for the next three questions.\n"
   ]
  },
  {
   "cell_type": "markdown",
   "metadata": {},
   "source": [
    "6. What is the value of bacon.index('cat')?\n",
    "\n",
    "   1\n"
   ]
  },
  {
   "cell_type": "markdown",
   "metadata": {},
   "source": [
    "7. How does bacon.append(99) change the look of the list value in bacon?\n",
    "\n",
    "   [3.14, 'cat', 11, 'cat', True, 99]\n"
   ]
  },
  {
   "cell_type": "markdown",
   "metadata": {},
   "source": [
    "8. How does bacon.remove('cat') change the look of the list in bacon?\n",
    "   \n",
    "    [3.14, 11, 'cat', True, 99]\n",
    "      "
   ]
  },
  {
   "cell_type": "markdown",
   "metadata": {},
   "source": [
    "9. What are the list concatenation and list replication operators?\n",
    "\n",
    "    list concatenation  +\n",
    "    list replication   *\n"
   ]
  },
  {
   "cell_type": "raw",
   "metadata": {},
   "source": [
    "10. What is difference between the list methods append() and insert()?\n",
    "\n",
    "    append()  it will add the element at the end of tthe list\n",
    "    eg.  s = [1,2,3,4,5]\n",
    "         s.append(13)\n",
    "         print(s)\n",
    "         \n",
    "         o/p [1,2,3,4,5,13]\n",
    "         \n",
    "    insert() we can provide the index value where we want to add the elememt\n",
    "     eg. s = [1,2,3,4,5]\n",
    "         s.insert(3,13)\n",
    "         print(s)\n",
    "         \n",
    "         o/p [1,2,3,13,4,5]\n"
   ]
  },
  {
   "cell_type": "raw",
   "metadata": {},
   "source": [
    "11. What are the two methods for removing items from a list?\n",
    "\n",
    "    remove method .  this will remove the element passed wherever it occured first\n",
    "    \n",
    "                     s = [1,2,3,4,5]\n",
    "                     s.remove(3)\n",
    "                     print(s)\n",
    "\n",
    "                     o/p [1,2,4,5]\n",
    "    \n",
    "    pop method  this will delete the element from the last only\n",
    "                \n",
    "                     s = [1,2,3,4,5]\n",
    "                     s.pop()\n",
    "                     print(s)\n",
    "\n",
    "                     o/p [1,2,3,4]\n",
    "    \n"
   ]
  },
  {
   "cell_type": "raw",
   "metadata": {},
   "source": [
    "12. Describe how list values and string values are identical.\n",
    " \n",
    "    we can iterate in both list and string values\n",
    "    both have the values stored in orederd form(sequence)"
   ]
  },
  {
   "cell_type": "raw",
   "metadata": {},
   "source": [
    "13. What's the difference between tuples and lists?\n",
    "  \n",
    "    tuples can not be manipulated after creation i.e. immutable\n",
    "    while list can be manipulated i.e. muttable after creation\n"
   ]
  },
  {
   "cell_type": "markdown",
   "metadata": {},
   "source": [
    "14. How do you type a tuple value that only contains the integer 42?\n",
    "\n",
    "  tuple1 =(42,)"
   ]
  },
  {
   "cell_type": "markdown",
   "metadata": {},
   "source": [
    "15. How do you get a list value's tuple form? How do you get a tuple value's list form?\n",
    "  \n",
    "    we have functions like list() and tuple() to convert the tuple value's in list form \n",
    "    and list value's in tuple form respectively\n",
    "    \n",
    "    t = (1,2,3,4,5)\n",
    "    t = list(t)\n",
    "    \n",
    "    l = [1,2,3,4,5]\n",
    "    l = tuple(l)\n",
    "    "
   ]
  },
  {
   "cell_type": "markdown",
   "metadata": {},
   "source": [
    "16. Variables that \"contain\" list values are not necessarily lists themselves. Instead, what do they\n",
    "contain?\n",
    "\n",
    " it can be integer, string, tuple, float etc\n"
   ]
  },
  {
   "cell_type": "markdown",
   "metadata": {},
   "source": [
    "17. How do you distinguish between copy.copy() and copy.deepcopy()?\n",
    "\n",
    "    copy.copy() is shallow copy of the original. We can modify the elements in the copy. \n",
    "    But that’s not possible in the deep copy."
   ]
  }
 ],
 "metadata": {
  "kernelspec": {
   "display_name": "Python 3",
   "language": "python",
   "name": "python3"
  },
  "language_info": {
   "codemirror_mode": {
    "name": "ipython",
    "version": 3
   },
   "file_extension": ".py",
   "mimetype": "text/x-python",
   "name": "python",
   "nbconvert_exporter": "python",
   "pygments_lexer": "ipython3",
   "version": "3.8.5"
  }
 },
 "nbformat": 4,
 "nbformat_minor": 4
}
