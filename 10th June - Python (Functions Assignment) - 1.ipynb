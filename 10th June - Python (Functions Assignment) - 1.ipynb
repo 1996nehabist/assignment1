{
 "cells": [
  {
   "cell_type": "markdown",
   "metadata": {},
   "source": [
    "# 1. In Python, what is the difference between a built-in function and a user-defined function? Provide an example of each.\n"
   ]
  },
  {
   "cell_type": "markdown",
   "metadata": {},
   "source": [
    "ans-\n",
    "built-in function are the functions that are already defined and we can use them just by calling "
   ]
  },
  {
   "cell_type": "code",
   "execution_count": 1,
   "metadata": {},
   "outputs": [
    {
     "name": "stdout",
     "output_type": "stream",
     "text": [
      "0\n",
      "1\n",
      "16\n",
      "81\n",
      "256\n"
     ]
    }
   ],
   "source": [
    "for i in range(5):\n",
    "    print(pow(i, 4))\n",
    "    "
   ]
  },
  {
   "cell_type": "markdown",
   "metadata": {},
   "source": [
    "here in this above example we used a built-in function pow() which gave the output as power of the\n",
    "numbers that were passed as arguments in the pow(arg1, arg2) function."
   ]
  },
  {
   "cell_type": "markdown",
   "metadata": {},
   "source": [
    "user-defined function are those function that user define in code for minimizing the repeatation of\n",
    "the code, user can define it one time and call it whenever required."
   ]
  },
  {
   "cell_type": "code",
   "execution_count": 2,
   "metadata": {},
   "outputs": [
    {
     "data": {
      "text/plain": [
       "15"
      ]
     },
     "execution_count": 2,
     "metadata": {},
     "output_type": "execute_result"
    }
   ],
   "source": [
    "def sum(a, b, c):\n",
    "    x = a + b + c\n",
    "    return x\n",
    "sum(5, 8, 2)"
   ]
  },
  {
   "cell_type": "markdown",
   "metadata": {},
   "source": [
    "here in this above example we created a function named sum() which will take three parameter \n",
    "and provide the output as the sum of all three parameter"
   ]
  },
  {
   "cell_type": "code",
   "execution_count": null,
   "metadata": {},
   "outputs": [],
   "source": []
  },
  {
   "cell_type": "markdown",
   "metadata": {},
   "source": [
    "# 2. How can you pass arguments to a function in Python? Explain the difference between positional arguments and keyword arguments.\n"
   ]
  },
  {
   "cell_type": "markdown",
   "metadata": {},
   "source": [
    "ans- arguments are passed at the time of calling for the function\n",
    "eg. function_name(argument1, argument2)  like this"
   ]
  },
  {
   "cell_type": "code",
   "execution_count": 3,
   "metadata": {},
   "outputs": [
    {
     "data": {
      "text/plain": [
       "26"
      ]
     },
     "execution_count": 3,
     "metadata": {},
     "output_type": "execute_result"
    }
   ],
   "source": [
    "def operation(a, b, c):   # a,b,c are the parameters\n",
    "    x = (a + b ) * c\n",
    "    return x\n",
    "operation(5, 8, 2)    #in this 5, 8, 2 are called the arguments\n",
    "\n"
   ]
  },
  {
   "cell_type": "markdown",
   "metadata": {},
   "source": [
    "in positional arguments we don't have to define the position of the arguments\n",
    "it is automatically assigned to the parameters of the function\n",
    "as defined in the above function sum\n",
    "\n",
    "in case of keyword arguments we don't have to worry about the order in which argumnets \n",
    "are passed we can pass it with the parameter name \n",
    "eg. given below\n"
   ]
  },
  {
   "cell_type": "code",
   "execution_count": 4,
   "metadata": {},
   "outputs": [
    {
     "data": {
      "text/plain": [
       "50"
      ]
     },
     "execution_count": 4,
     "metadata": {},
     "output_type": "execute_result"
    }
   ],
   "source": [
    "def operation(a, b, c):\n",
    "    x = (a + b) * c\n",
    "    return x\n",
    "operation(c=5, a=8, b=2)\n",
    "\n",
    "# in this we can see that the output is different because the arguments passed is not according to there position"
   ]
  },
  {
   "cell_type": "code",
   "execution_count": null,
   "metadata": {},
   "outputs": [],
   "source": []
  },
  {
   "cell_type": "markdown",
   "metadata": {},
   "source": [
    "# 3. What is the purpose of the return statement in a function? Can a function have multiple return statements? Explain with an example.\n"
   ]
  },
  {
   "cell_type": "markdown",
   "metadata": {},
   "source": [
    "return statements in the function will take some input and provide the output with respect to the\n",
    "input provided.\n",
    " \n",
    "    only 1 return statement could be there in one function\n",
    "as after executing the return statement, the execution it will come outside the function \n",
    "automatically\n",
    "\n"
   ]
  },
  {
   "cell_type": "code",
   "execution_count": 5,
   "metadata": {},
   "outputs": [
    {
     "data": {
      "text/plain": [
       "8"
      ]
     },
     "execution_count": 5,
     "metadata": {},
     "output_type": "execute_result"
    }
   ],
   "source": [
    "def operation(a, b, c):\n",
    "    y = a + b\n",
    "    return y             # only this value will be returned\n",
    "    x = (a + b) * c       # rest two lines won't be executed\n",
    "    return x\n",
    "operation(2, 6, 9)"
   ]
  },
  {
   "cell_type": "code",
   "execution_count": null,
   "metadata": {},
   "outputs": [],
   "source": []
  },
  {
   "cell_type": "markdown",
   "metadata": {},
   "source": [
    "# 4. What are lambda functions in Python? How are they different from regular functions? Provide an example where a lambda function can be useful.\n"
   ]
  },
  {
   "cell_type": "markdown",
   "metadata": {},
   "source": [
    " lambda is a one line function, consist of only a single expression\n",
    "\n",
    " lambda returns a function object and used in the block they were created\n",
    " but in case of regular functions make our code more organised and manageable. They can be called and used anywhere we want. \n"
   ]
  },
  {
   "cell_type": "code",
   "execution_count": 6,
   "metadata": {},
   "outputs": [
    {
     "name": "stdout",
     "output_type": "stream",
     "text": [
      "25\n"
     ]
    }
   ],
   "source": [
    "add = lambda x : x*x\n",
    "print(add(5))"
   ]
  },
  {
   "cell_type": "code",
   "execution_count": 7,
   "metadata": {},
   "outputs": [
    {
     "data": {
      "text/plain": [
       "25"
      ]
     },
     "execution_count": 7,
     "metadata": {},
     "output_type": "execute_result"
    }
   ],
   "source": [
    "def mul(x):\n",
    "    x = x*x\n",
    "    return x\n",
    "mul(5)"
   ]
  },
  {
   "cell_type": "code",
   "execution_count": null,
   "metadata": {},
   "outputs": [],
   "source": []
  },
  {
   "cell_type": "markdown",
   "metadata": {},
   "source": [
    "# 5. How does the concept of \"scope\" apply to functions in Python? Explain the difference between local scope and global scope.\n"
   ]
  },
  {
   "cell_type": "markdown",
   "metadata": {},
   "source": [
    "scope defines that to which extend the variable can be used inside the function or outside the\n",
    "functions. local scope can't be used outside the function also the global scope can't be used\n",
    " inside the function untill the variable is defined inside the fun"
   ]
  },
  {
   "cell_type": "code",
   "execution_count": 8,
   "metadata": {},
   "outputs": [],
   "source": [
    "x = 50                    # defined globally can't be called inside the fun \n",
    "def call_global(k):\n",
    "    x = x + k             # will give an error as x is not defined inside the fun once called\n",
    "    return x\n",
    "\n",
    "def call_local(k):\n",
    "    x = 51                 # defined locally inside the fun can be used inside the fun only\n",
    "    x = x + k             \n",
    "    return x\n",
    "              "
   ]
  },
  {
   "cell_type": "code",
   "execution_count": null,
   "metadata": {},
   "outputs": [],
   "source": []
  },
  {
   "cell_type": "markdown",
   "metadata": {},
   "source": [
    "# 6. How can you use the \"return\" statement in a Python function to return multiple values?\n"
   ]
  },
  {
   "cell_type": "code",
   "execution_count": 9,
   "metadata": {},
   "outputs": [
    {
     "data": {
      "text/plain": [
       "(4, 8, 12)"
      ]
     },
     "execution_count": 9,
     "metadata": {},
     "output_type": "execute_result"
    }
   ],
   "source": [
    "def test(arg1, arg2):\n",
    "    x = arg1 + arg2\n",
    "    return arg1, arg2, x   #returns multiple value but only one return statement could be used\n",
    "test(4,8)"
   ]
  },
  {
   "cell_type": "code",
   "execution_count": null,
   "metadata": {},
   "outputs": [],
   "source": []
  },
  {
   "cell_type": "markdown",
   "metadata": {},
   "source": [
    "# 7. What is the difference between the \"pass by value\" and \"pass by reference\" concepts when it comes to function arguments in Python?\n"
   ]
  },
  {
   "cell_type": "code",
   "execution_count": 10,
   "metadata": {},
   "outputs": [
    {
     "name": "stdout",
     "output_type": "stream",
     "text": [
      "Inside the function {'Jim': 12, 'Anna': 14, 'Preet': 10, 'Sam': 20, 'Steve': 21}\n",
      "Outside the function: {'Jim': 12, 'Anna': 14, 'Preet': 10, 'Sam': 20, 'Steve': 21}\n"
     ]
    }
   ],
   "source": [
    "student = {'Jim': 12, 'Anna': 14, 'Preet': 10}\n",
    "def test(student):\n",
    "    new = {'Sam':20, 'Steve':21}\n",
    "    student.update(new)   #in pass-by-reference the function and the caller use the same variable and object.\n",
    "    print(\"Inside the function\", student)\n",
    "    return \n",
    "test(student)\n",
    "print(\"Outside the function:\", student)"
   ]
  },
  {
   "cell_type": "code",
   "execution_count": 11,
   "metadata": {},
   "outputs": [
    {
     "name": "stdout",
     "output_type": "stream",
     "text": [
      "Inside the function {'Sam': 20, 'Steve': 21}\n",
      "Outside the function: {'Jim': 12, 'Anna': 14, 'Preet': 10}\n"
     ]
    }
   ],
   "source": [
    "student = {'Jim': 12, 'Anna': 14, 'Preet': 10}\n",
    "def test(student):       # pass by value we pass a copy of actual variables in function as a parameter. \n",
    "#Hence any modification on parameters inside the function will not reflect in the actual variable.\n",
    "    student = {'Sam':20, 'Steve':21}\n",
    "    print(\"Inside the function\", student)\n",
    "    return \n",
    "test(student)\n",
    "print(\"Outside the function:\", student)"
   ]
  },
  {
   "cell_type": "code",
   "execution_count": null,
   "metadata": {},
   "outputs": [],
   "source": []
  },
  {
   "cell_type": "markdown",
   "metadata": {},
   "source": [
    "# 8. Create a function that can intake integer or decimal value and do following operations:\n",
    "a. Logarithmic function (log x)\n",
    "b. Exponential function (exp(x))\n",
    "c. Power function with base 2 (2x)\n",
    "d. Square root\n"
   ]
  },
  {
   "cell_type": "code",
   "execution_count": 12,
   "metadata": {},
   "outputs": [],
   "source": [
    "def power(num1, num2):\n",
    "    x = num1\n",
    "    for i in range(num2-1):\n",
    "        x = x * num1\n",
    "    return x\n",
    "\n",
    "\n",
    "\n",
    "    \n"
   ]
  },
  {
   "cell_type": "code",
   "execution_count": 13,
   "metadata": {},
   "outputs": [
    {
     "name": "stdout",
     "output_type": "stream",
     "text": [
      "e^x = 2.7182818011463845\n"
     ]
    }
   ],
   "source": [
    "def exponential(n, x):\n",
    " \n",
    "   \n",
    "    sum = 1.0\n",
    "    for i in range(n, 0, -1):  # 1 + x/1 + (x**2)/(1*2) + (x**3)/(1*2*3) + .....\n",
    "        sum = 1 + x * sum / i\n",
    "    print (\"e^x =\", sum)\n",
    "\n",
    "n = 10\n",
    "x = 1.0\n",
    "exponential(n, x)"
   ]
  },
  {
   "cell_type": "code",
   "execution_count": 14,
   "metadata": {},
   "outputs": [
    {
     "data": {
      "text/plain": [
       "12.649110640673516"
      ]
     },
     "execution_count": 14,
     "metadata": {},
     "output_type": "execute_result"
    }
   ],
   "source": [
    "def findSqrt(n):\n",
    "    sqrtNum = n / 2\n",
    "    temp = 0\n",
    "\n",
    "    while sqrtNum != temp:\n",
    "        temp = sqrtNum\n",
    "        sqrtNum = (n / temp + temp) / 2\n",
    "\n",
    "    return sqrtNum\n",
    "findSqrt(160)"
   ]
  },
  {
   "cell_type": "code",
   "execution_count": 15,
   "metadata": {},
   "outputs": [
    {
     "data": {
      "text/plain": [
       "3"
      ]
     },
     "execution_count": 15,
     "metadata": {},
     "output_type": "execute_result"
    }
   ],
   "source": [
    "def myLog(x, b):\n",
    "    if x < b:\n",
    "        return 0  \n",
    "    return 1 + myLog(x/b, b)\n",
    "myLog(8,2)"
   ]
  },
  {
   "cell_type": "code",
   "execution_count": null,
   "metadata": {},
   "outputs": [],
   "source": []
  },
  {
   "cell_type": "markdown",
   "metadata": {},
   "source": [
    "# 9. Create a function that takes a full name as an argument and returns first name and last name."
   ]
  },
  {
   "cell_type": "code",
   "execution_count": 16,
   "metadata": {},
   "outputs": [
    {
     "name": "stdout",
     "output_type": "stream",
     "text": [
      "first_name : neha ,  last_name : bist\n"
     ]
    }
   ],
   "source": [
    "def split_name(fullname):\n",
    "    first=fullname.split()[0]\n",
    "    last=fullname.split()[-1]\n",
    "    print(\"first_name : \" + first + ' , ' + \" last_name : \" + last) \n",
    "split_name( \"neha bist\"  )"
   ]
  },
  {
   "cell_type": "code",
   "execution_count": null,
   "metadata": {},
   "outputs": [],
   "source": []
  },
  {
   "cell_type": "code",
   "execution_count": null,
   "metadata": {},
   "outputs": [],
   "source": []
  }
 ],
 "metadata": {
  "kernelspec": {
   "display_name": "Python 3",
   "language": "python",
   "name": "python3"
  },
  "language_info": {
   "codemirror_mode": {
    "name": "ipython",
    "version": 3
   },
   "file_extension": ".py",
   "mimetype": "text/x-python",
   "name": "python",
   "nbconvert_exporter": "python",
   "pygments_lexer": "ipython3",
   "version": "3.8.5"
  }
 },
 "nbformat": 4,
 "nbformat_minor": 4
}
