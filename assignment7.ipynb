{
 "cells": [
  {
   "cell_type": "markdown",
   "metadata": {},
   "source": [
    "\"\"\"\" Q.1. Create two int type variables, apply addition, subtraction, division and multiplications\n",
    "and store the results in variables. Then print the data in the following format by calling the\n",
    "variables:\n",
    "First variable is __ & second variable is __.\n",
    "Addition: __ + __ = __\n",
    "Subtraction: __ - __ = __\n",
    "Multiplication: __ * __ = __\n",
    "Division: __ / __ = __  \"\"\"\n"
   ]
  },
  {
   "cell_type": "code",
   "execution_count": 1,
   "metadata": {},
   "outputs": [
    {
     "name": "stdout",
     "output_type": "stream",
     "text": [
      "First variable is  54  & second variable is  45\n",
      "Addition :  54 + 45 =  99\n",
      "Subtraction :  54 - 45 =  9\n",
      "Multiplication :  54 * 45 =  2430\n",
      "Division :  54 / 45 =  1.2\n"
     ]
    }
   ],
   "source": [
    "first_no = 54\n",
    "second_no = 45\n",
    "add = first_no + second_no\n",
    "sub = first_no - second_no\n",
    "mul = first_no * second_no\n",
    "div = first_no / second_no\n",
    "print(\"First variable is \", first_no, \" & second variable is \", second_no)\n",
    "print(\"Addition : \", first_no, \"+\", second_no, \"= \", add)\n",
    "print(\"Subtraction : \", first_no, \"-\", second_no, \"= \", sub)\n",
    "print(\"Multiplication : \", first_no, \"*\", second_no, \"= \", mul)\n",
    "print(\"Division : \", first_no, \"/\", second_no, \"= \", div)"
   ]
  },
  {
   "cell_type": "markdown",
   "metadata": {},
   "source": [
    "#Q.2. What is the difference between the following operators:\n",
    "\"\"\"(i) ‘/’ & ‘//’\n",
    "(ii) ‘**’ & ‘^’   \"\"\"\n",
    "\n",
    "\"\"\" ans - / - used for divison\n",
    "          // - If any of the numbers is float, it returns output in float.\n",
    "               if any number is negative, then the output will be floored.\"\"\"\n",
    "\n",
    "\"\"\" ans - ** -  used for getting the power\n",
    "           ^ -  this will apply the xor operation by converting the numbers to\n",
    "                binary numbers\"\"\"\n"
   ]
  },
  {
   "cell_type": "markdown",
   "metadata": {},
   "source": [
    "#Q.3. List the logical operators.\n",
    "    \"\"\"ans -and: True if both the operands are true\tx and y\n",
    "            or\t: True if either of the operands is true\tx or y\n",
    "            not\t: True if operand is false\tnot x\"\"\"\n"
   ]
  },
  {
   "cell_type": "markdown",
   "metadata": {},
   "source": [
    "#Q.4. Explain right shift operator and left shift operator with examples.\n",
    "\"\"\" The Bitwise Left shift moves the bits of a number to the Left. \n",
    "It multiplies the number of bits by two respectively.\n",
    "\n",
    "For example, let the number = 3\n",
    "\n",
    "Its binary form = 0000 0011\n",
    "\n",
    "0000 0011<<1 bit = 0000 0110 = 6\"\"\"\n",
    "\n",
    "\"\"\"The Bitwise Right Shift moves the bits of a number to the right. \n",
    " \n",
    "It divides the number of bits by two respectively.\n",
    "\n",
    "For example, let the number = 3\n",
    "\n",
    "Its binary form = 0000 0011\n",
    "\n",
    "0000 0011>>1 bit = 0000 0001 = 1\"\"\"\n"
   ]
  },
  {
   "cell_type": "code",
   "execution_count": 2,
   "metadata": {},
   "outputs": [
    {
     "name": "stdout",
     "output_type": "stream",
     "text": [
      "1\n",
      "8\n"
     ]
    }
   ],
   "source": [
    "x=3\n",
    "print(x>>1)\n",
    "y=4\n",
    "print(y<<1)\n"
   ]
  },
  {
   "cell_type": "code",
   "execution_count": 3,
   "metadata": {},
   "outputs": [
    {
     "data": {
      "text/plain": [
       "'Q.5. Create a list containing int type data of length 15. Then write a code to check if 10 is\\npresent in the list or not.'"
      ]
     },
     "execution_count": 3,
     "metadata": {},
     "output_type": "execute_result"
    }
   ],
   "source": [
    "\"\"\"Q.5. Create a list containing int type data of length 15. Then write a code to check if 10 is\n",
    "present in the list or not.\"\"\""
   ]
  },
  {
   "cell_type": "code",
   "execution_count": 5,
   "metadata": {},
   "outputs": [
    {
     "name": "stdout",
     "output_type": "stream",
     "text": [
      "10 is present at  5\n"
     ]
    }
   ],
   "source": [
    "list1 =[2,6,9,4,10,45,87,93,20,84,23,76,451,25,71]\n",
    "if 10 in list1:\n",
    "    print(\"10 is present at \", (list1.index(10))+1)"
   ]
  },
  {
   "cell_type": "code",
   "execution_count": null,
   "metadata": {},
   "outputs": [],
   "source": []
  }
 ],
 "metadata": {
  "kernelspec": {
   "display_name": "Python 3",
   "language": "python",
   "name": "python3"
  },
  "language_info": {
   "codemirror_mode": {
    "name": "ipython",
    "version": 3
   },
   "file_extension": ".py",
   "mimetype": "text/x-python",
   "name": "python",
   "nbconvert_exporter": "python",
   "pygments_lexer": "ipython3",
   "version": "3.8.5"
  }
 },
 "nbformat": 4,
 "nbformat_minor": 4
}
