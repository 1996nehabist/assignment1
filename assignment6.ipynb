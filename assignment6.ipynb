{
 "cells": [
  {
   "cell_type": "code",
   "execution_count": 1,
   "metadata": {},
   "outputs": [
    {
     "name": "stdout",
     "output_type": "stream",
     "text": [
      "False\n",
      "None\n",
      "True\n",
      "and\n",
      "as\n",
      "assert\n",
      "async\n",
      "await\n",
      "break\n",
      "class\n",
      "continue\n",
      "def\n",
      "del\n",
      "elif\n",
      "else\n",
      "except\n",
      "finally\n",
      "for\n",
      "from\n",
      "global\n",
      "if\n",
      "import\n",
      "in\n",
      "is\n",
      "lambda\n",
      "nonlocal\n",
      "not\n",
      "or\n",
      "pass\n",
      "raise\n",
      "return\n",
      "try\n",
      "while\n",
      "with\n",
      "yield\n"
     ]
    }
   ],
   "source": [
    "# 1. What are keywords in python? Using the keyword library, print all the python keywords.\n",
    "\n",
    "# ans - keywords are the reserved words, which can't be used as variable name, function name etc, they have some predefined purpose/meaning.\n",
    "import keyword\n",
    "for i in keyword.kwlist:\n",
    "    print(i)"
   ]
  },
  {
   "cell_type": "markdown",
   "metadata": {},
   "source": [
    "# 2. What are the rules to create variables in python?\n",
    "\n",
    "ans - 1. must start with a letter or the underscore.\n",
    "      2. cannot start with a number.\n",
    "      3. can only contain alpha-numeric characters and underscores (A-z, 0-9, and _ ).\n",
    "      4. keywords cannot be used as the variable name.\n",
    "      5. cannot use special characters such as such as $,%,#,&,@.-,^"
   ]
  },
  {
   "cell_type": "markdown",
   "metadata": {},
   "source": [
    "# 3. What are the standards and conventions followed for the nomenclature of variables in python to improve code readability and maintainability?\n",
    "\n",
    "\n",
    "ans -1: Always give a meaningfull name. Don’t give a name like x,y, or z, etc.\n",
    "     2: Don’t give space in between name instead of using underscore(_) when there are more than one-word presents.\n"
   ]
  },
  {
   "cell_type": "markdown",
   "metadata": {},
   "source": [
    "# 4. What will happen if a keyword is used as a variable name?\n",
    " \n",
    "    ans - it will give syntax error\n"
   ]
  },
  {
   "cell_type": "markdown",
   "metadata": {},
   "source": [
    "# 5. For what purpose def keyword is used?\n",
    "  \n",
    "    ans - to create user defined function"
   ]
  },
  {
   "cell_type": "code",
   "execution_count": 2,
   "metadata": {},
   "outputs": [
    {
     "name": "stdout",
     "output_type": "stream",
     "text": [
      "\"Python's awesome\" She said\n"
     ]
    }
   ],
   "source": [
    "# 6. What is the operation of this special character ‘\\’?\n",
    "\n",
    "#   ans - 1. it is a special character used as a part of a special sequence such as \\t and \\n i.e. for tab or new line\n",
    "#         2. it is used to escape other special characters in a string.\n",
    "        \n",
    "s = '\"Python\\'s awesome\" She said'\n",
    "print(s)"
   ]
  },
  {
   "cell_type": "markdown",
   "metadata": {},
   "source": [
    "# 7. Give an example of the following conditions:\n",
    "\"\"\"\"(i) Homogeneous list  --  ['hello','this','is','an','example','of','homogeneous','list']\n",
    "    (ii) Heterogeneous set -- {3,'hello',87,'heterogenous','example'}\n",
    "    (iii) Homogeneous tuple --(3,8,2,9,10) \"\"\"\n",
    "\n",
    " \n"
   ]
  },
  {
   "cell_type": "markdown",
   "metadata": {},
   "source": [
    "# 8. Explain the mutable and immutable data types with proper explanation & examples.\n",
    "\n",
    "''' Mutable data types in python are those which can be changed, once created \n",
    "    but immutable data types are those which cannot be changed, once they are created. \n",
    "    Example of mutable data types are list, dictionary, set. \n",
    "    examples of Immutable datatypes are int, float, string, bool, tuple.'''\n"
   ]
  },
  {
   "cell_type": "markdown",
   "metadata": {},
   "source": [
    "# 9. Write a code to create the given structure using only for loop.\n",
    "\"\"\"         *\n",
    "           ***\n",
    "          *****\n",
    "         *******\n",
    "        ********* \"\"\""
   ]
  },
  {
   "cell_type": "code",
   "execution_count": 3,
   "metadata": {},
   "outputs": [
    {
     "name": "stdout",
     "output_type": "stream",
     "text": [
      "      *\n",
      "     ***\n",
      "    *****\n",
      "   *******\n",
      "  *********\n"
     ]
    }
   ],
   "source": [
    "i=5\n",
    "for j in range(1, 10, 2):\n",
    "        print(\" \"*i,\"*\"*j)\n",
    "        i=i-1\n",
    "        \n",
    "       "
   ]
  },
  {
   "cell_type": "markdown",
   "metadata": {},
   "source": [
    "# 10. Write a code to create the given structure using while loop.\n",
    "\"\"\"     |||||||||\n",
    "         |||||||\n",
    "          |||||\n",
    "           |||\n",
    "            |     \"\"\""
   ]
  },
  {
   "cell_type": "code",
   "execution_count": null,
   "metadata": {},
   "outputs": [],
   "source": [
    "i=0\n",
    "for j in range(9, 10, 2):\n",
    "        print(\" \"*i,\"*\"*j)\n",
    "        i=i+1"
   ]
  }
 ],
 "metadata": {
  "kernelspec": {
   "display_name": "Python 3",
   "language": "python",
   "name": "python3"
  },
  "language_info": {
   "codemirror_mode": {
    "name": "ipython",
    "version": 3
   },
   "file_extension": ".py",
   "mimetype": "text/x-python",
   "name": "python",
   "nbconvert_exporter": "python",
   "pygments_lexer": "ipython3",
   "version": "3.8.5"
  }
 },
 "nbformat": 4,
 "nbformat_minor": 4
}
